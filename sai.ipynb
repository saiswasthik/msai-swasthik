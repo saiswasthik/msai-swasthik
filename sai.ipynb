{
 "cells": [
  {
   "cell_type": "code",
   "execution_count": 4,
   "metadata": {},
   "outputs": [
    {
     "name": "stdout",
     "output_type": "stream",
     "text": [
      "[1, 20, 'string', [10, 20, 30]]\n",
      "[10, 20, 'string', [10, 20, 3]]\n"
     ]
    }
   ],
   "source": [
    "a=[10,20,'string',[10,20,30]]\n",
    "b=a.copy()\n",
    "a[0]=1\n",
    "print(a)\n",
    "b[-1][2]=3\n",
    "print(b)"
   ]
  },
  {
   "cell_type": "code",
   "execution_count": 21,
   "metadata": {},
   "outputs": [
    {
     "name": "stdout",
     "output_type": "stream",
     "text": [
      "[10, 15, ['a', 'b'], 'hai', {10, 20, 30}]\n",
      "b\n",
      "{10, 20, 30}\n"
     ]
    }
   ],
   "source": [
    "import copy\n",
    "l=[10,15,['a','b'],'hai',{10,20,30}]\n",
    "t= copy.copy(l)\n",
    "print(t)\n",
    "print(l[2][1])\n",
    "print(t[-1])"
   ]
  },
  {
   "cell_type": "code",
   "execution_count": 27,
   "metadata": {},
   "outputs": [
    {
     "name": "stdout",
     "output_type": "stream",
     "text": [
      "[10, 2, [1, 'sai', 'a'], 'ab', 'qw']\n",
      "[10, 20, [1, 'sai', 'a'], 'ab', 'qw']\n"
     ]
    }
   ],
   "source": [
    "import copy\n",
    "a=[10,20,[30,'sai','a'],'ab','qw']\n",
    "b=copy.copy(a)\n",
    "a[2][0]=1\n",
    "a[1]=2\n",
    "print(a)\n",
    "print(b)"
   ]
  },
  {
   "cell_type": "code",
   "execution_count": 29,
   "metadata": {},
   "outputs": [
    {
     "name": "stdout",
     "output_type": "stream",
     "text": [
      "[10, 2, [1, 'sai', 'a'], 'ab', 'qw']\n",
      "[10, 20, [30, 'sai', 'a'], 'ab', 'a']\n"
     ]
    }
   ],
   "source": [
    "import copy\n",
    "a=[10,20,[30,'sai','a'],'ab','qw']\n",
    "b=copy.deepcopy(a)\n",
    "a[2][0]=1\n",
    "a[1]=2\n",
    "b[-1]='a'\n",
    "print(a)\n",
    "print(b)"
   ]
  },
  {
   "cell_type": "code",
   "execution_count": 51,
   "metadata": {},
   "outputs": [
    {
     "name": "stdout",
     "output_type": "stream",
     "text": [
      "[1, 2, {66, 4, 5, 23}, [('a', 'b', 'c'), 'swasthik']]\n"
     ]
    }
   ],
   "source": [
    "a=[1,2,3,{66,23,4,5},[('a','b','c'),'swasthik','q']]\n",
    "del a[4][2]\n",
    "del a[2]\n",
    "print(a)"
   ]
  },
  {
   "cell_type": "code",
   "execution_count": null,
   "metadata": {},
   "outputs": [],
   "source": []
  }
 ],
 "metadata": {
  "kernelspec": {
   "display_name": "Python 3",
   "language": "python",
   "name": "python3"
  },
  "language_info": {
   "codemirror_mode": {
    "name": "ipython",
    "version": 3
   },
   "file_extension": ".py",
   "mimetype": "text/x-python",
   "name": "python",
   "nbconvert_exporter": "python",
   "pygments_lexer": "ipython3",
   "version": "3.11.4"
  },
  "orig_nbformat": 4
 },
 "nbformat": 4,
 "nbformat_minor": 2
}
